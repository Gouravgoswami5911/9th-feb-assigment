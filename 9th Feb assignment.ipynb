{
 "cells": [
  {
   "cell_type": "code",
   "execution_count": 1,
   "id": "2eb6a93f",
   "metadata": {},
   "outputs": [],
   "source": [
    "#Question1: Create a vehicle class with an init method having instance variables as name_of_vehicle, max_speed\n",
    "# and average_of_vehicle. \n",
    "\n",
    "\n",
    "\n",
    "\n",
    "class Vehicle:\n",
    "    def __init__(self, name_of_vehicle, max_speed, average_of_vehicle):\n",
    "        self.name_of_vehicle = name_of_vehicle\n",
    "        self.max_speed = max_speed\n",
    "        self.average_of_vehicle = average_of_vehicle\n"
   ]
  },
  {
   "cell_type": "code",
   "execution_count": 2,
   "id": "a71a2d92",
   "metadata": {},
   "outputs": [],
   "source": [
    "#Question2; Create a child class car from the vehicle class created in Que 1, which will inherit the vehicle class.\n",
    "# Create a method named seating_capacity which takes capacity as an argument and returns the name of\n",
    "# the vehicle and its seating capacity\n",
    "\n",
    "\n",
    "\n",
    "\n",
    "\n",
    "class Car(Vehicle):\n",
    "    def seating_capacity(self, capacity):\n",
    "        return f\"{self.name_of_vehicle} has a seating capacity of {capacity}.\"\n"
   ]
  },
  {
   "cell_type": "code",
   "execution_count": 6,
   "id": "cd05f66d",
   "metadata": {},
   "outputs": [],
   "source": [
    " #Question3 What is multiple inheritance? Write a python code to demonstrate multiple inheritance.\n",
    "    \n",
    "    \n",
    "    \n",
    "    \n",
    "\"\"\"Multiple inheritance is a feature of object-oriented programming languages that allows a class to inherit attributes and\n",
    "methods from multiple parent classes. This means that a child class can inherit attributes and methods from more than one \n",
    "parent class,\n",
    "allowing for greater flexibility and code reuse.\"\"\"\n",
    "\n",
    "\n",
    "\n",
    "\n",
    "class class1():\n",
    "    \n",
    "    \n",
    "    def test1(self):\n",
    "        print(\"this is test1\")\n",
    "        \n",
    "        \n",
    "        \n",
    "class class2():\n",
    "    \n",
    "    \n",
    "    def test2(self):\n",
    "        print(\"this is test2\")\n",
    "        \n",
    "        \n",
    "        \n",
    "        \n",
    "class class3(class1,class2):\n",
    "    pass"
   ]
  },
  {
   "cell_type": "code",
   "execution_count": 7,
   "id": "615c2899",
   "metadata": {},
   "outputs": [],
   "source": [
    "class_obj=class3()"
   ]
  },
  {
   "cell_type": "code",
   "execution_count": 8,
   "id": "5a77121d",
   "metadata": {},
   "outputs": [
    {
     "name": "stdout",
     "output_type": "stream",
     "text": [
      "this is test1\n"
     ]
    }
   ],
   "source": [
    "class_obj.test1()"
   ]
  },
  {
   "cell_type": "code",
   "execution_count": 9,
   "id": "7a12b6f7",
   "metadata": {},
   "outputs": [
    {
     "name": "stdout",
     "output_type": "stream",
     "text": [
      "this is test2\n"
     ]
    }
   ],
   "source": [
    "class_obj.test2()"
   ]
  },
  {
   "cell_type": "code",
   "execution_count": 10,
   "id": "033ad137",
   "metadata": {},
   "outputs": [],
   "source": [
    "#Question4:  What are getter and setter in python? Create a class and create a getter and a setter method in this\n",
    "# class.\n",
    "\n",
    "\n",
    "\n",
    "\n",
    "\n",
    "class Temperature:\n",
    "    def __init__(self, temperature):\n",
    "        self.__temperature = temperature\n",
    "\n",
    "    @property\n",
    "    def temperature(self):\n",
    "        return self.__temperature\n",
    "\n",
    "    @temperature.setter\n",
    "    def temperature(self, value):\n",
    "        if value < -273.15:\n",
    "            raise ValueError(\"Temperature below absolute zero\")\n",
    "        self.__temperature = value\n"
   ]
  },
  {
   "cell_type": "code",
   "execution_count": 11,
   "id": "cf18e2be",
   "metadata": {},
   "outputs": [
    {
     "name": "stdout",
     "output_type": "stream",
     "text": [
      "200\n"
     ]
    }
   ],
   "source": [
    "#Question5: What is method overriding in python? Write a python code to demonstrate method overriding.\n",
    "\n",
    "\n",
    "\n",
    "\"\"\"Method overriding is a feature of object-oriented programming languages that allows a subclass to provide a new \n",
    "implementation for a method that is already defined in its parent class. The subclass can \"override\" the method from\n",
    "the parent class, changing its behavior. This is useful for customizing the behavior of an object based on its specific type.\n",
    "\n",
    "Here's an example of method overriding in Python:\"\"\"\n",
    "\n",
    "\n",
    "\n",
    "\n",
    "class Shape:\n",
    "    def area(self):\n",
    "        return 0\n",
    "\n",
    "class Rectangle(Shape):\n",
    "    def __init__(self, width, height):\n",
    "        self.width = width\n",
    "        self.height = height\n",
    "\n",
    "    def area(self):\n",
    "        return self.width * self.height\n",
    "\n",
    "rect = Rectangle(10, 20)\n",
    "print(rect.area()) \n"
   ]
  },
  {
   "cell_type": "code",
   "execution_count": null,
   "id": "18f43979",
   "metadata": {},
   "outputs": [],
   "source": []
  }
 ],
 "metadata": {
  "kernelspec": {
   "display_name": "Python 3 (ipykernel)",
   "language": "python",
   "name": "python3"
  },
  "language_info": {
   "codemirror_mode": {
    "name": "ipython",
    "version": 3
   },
   "file_extension": ".py",
   "mimetype": "text/x-python",
   "name": "python",
   "nbconvert_exporter": "python",
   "pygments_lexer": "ipython3",
   "version": "3.9.6"
  }
 },
 "nbformat": 4,
 "nbformat_minor": 5
}
